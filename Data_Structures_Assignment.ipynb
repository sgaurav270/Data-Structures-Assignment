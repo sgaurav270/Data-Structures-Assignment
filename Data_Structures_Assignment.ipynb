{
  "nbformat": 4,
  "nbformat_minor": 0,
  "metadata": {
    "colab": {
      "provenance": []
    },
    "kernelspec": {
      "name": "python3",
      "display_name": "Python 3"
    },
    "language_info": {
      "name": "python"
    }
  },
  "cells": [
    {
      "cell_type": "markdown",
      "source": [
        "# Data Structure Assignment\n"
      ],
      "metadata": {
        "id": "UEDTHUuaEuSe"
      }
    },
    {
      "cell_type": "markdown",
      "source": [
        "1.  What are data structures, and why are they important ?\n",
        "   \n",
        "   - Data structures are organized ways of storing, managing, and organizing data to enable efficient access and modification. They are a fundamental concept in computer science and programming, forming the backbone of most software applications.Data Structures are important because of there Efficient Data Handling, Improved Algorithm Performance, Solving Complex Problems, Memory Management, Foundation for Software Development. for example, Social Networks, Search Engines,Navigation Systems, E-Commerce Platforms etc.\n",
        "\n",
        "\n",
        "2. Explain the difference between mutable and immutable data types with examples ?\n",
        "\n",
        "   - The terms mutable and immutable describe whether or not a data type allows modifications to its content after it has been created.Mutable data types can be changed or modified after creation. This means you can update, add, or remove elements in place without creating a new object.Immutable data types cannot be changed after creation. Any operation that appears to modify an immutable object actually creates a new object.\n",
        "\n",
        "\n",
        "3.  What are the main differences between lists and tuples in Python ?\n",
        "\n",
        "    - Lists and tuples are both used to store collections of data in Python. However, they have significant differences that impact their behavior and use cases. Lists are Mutable, You can modify elements, add, or remove them.Tuples are Immutable, Elements cannot be changed once the tuple is created.\n",
        "     list are defined with square brackets []. Tuples are defined with parentheses ().Lists is slightly slower due to mutability. Tuples is Faster because they are immutable and require less memory.\n",
        "\n",
        "\n",
        "4. Describe how dictionaries store data ?\n",
        "\n",
        "   - Dictionaries in Python store data using a hash table structure, which allows for fast and efficient retrieval of values based on keys. This design ensures average-case O(1) time complexity for common operations like lookup, insertion, and deletion.\n",
        "\n",
        "\n",
        "5. Why might you use a set instead of a list in Python ?\n",
        "\n",
        "    - A set in Python is an unordered collection of unique elements. While a list can store duplicate and ordered elements, a set has distinct characteristics that make it a better choice in certain scenarios.Reasons to use a set instead of a list are:- Ensuring Uniqueness, Faster Membership Testing, Set Operations, Better for Large Data.\n",
        "\n",
        "\n",
        "6.  What is a string in Python, and how is it different from a list ?\n",
        "\n",
        "    - A string in python is a sequence of characters enclosed in single (') or double (\") quotes. Strings are used to represent text and are immutable, meaning they cannot be changed after creation. In contrast, a list is a collection of elements which can be of any type enclosed in square brackets ([]) and is mutable, meaning it can be modified after creation.\n",
        "\n",
        "7.  How do tuples ensure data integrity in Python ?\n",
        "\n",
        "    - Tuples in Python ensure data integrity by being immutable, meaning their contents cannot be changed after creation. This immutability provides a robust way to maintain consistency and reliability, particularly in situations where data must remain unchanged throughout a program's execution.\n",
        "\n",
        "8.  What is a hash table, and how does it relate to dictionaries in Python ?\n",
        "\n",
        "    -\n",
        "A hash table is a data structure that stores key-value pairs and uses a hashing function to map keys to specific locations or indices in an underlying array. This design enables efficient data storage, retrieval, and management, typically providing O(1) average time complexity for operations like lookups, insertions, and deletions.In Python, dictionaries are implemented using hash tables, making them one of the most efficient and versatile data structures for handling key-value pairs.\n",
        "\n",
        "\n",
        "9. Can lists contain different data types in Python ?\n",
        "\n",
        "  - Yes, lists in Python can contain elements of different data types. Python lists are highly versatile and can store any combination of data types, including integers, floats, strings, booleans, other lists, tuples, dictionaries, objects, or even custom data types.\n",
        "\n",
        "\n",
        "10. Explain why strings are immutable in Python ?\n",
        "\n",
        "    - In Python, strings are immutable, which means that once a string is created, its content cannot be changed. This design choice is deliberate and has several important benefits related to performance, safety, and design philosophy. The reasons why strings are immutable because of efficiency in memory management, Hashing, Performance Optimizations etc.\n",
        "\n",
        "\n",
        "11. What advantages do dictionaries offer over lists for certain tasks ?\n",
        "\n",
        "    - Dictionaries offer several advantages over lists for certain tasks, particularly when you need to store and retrieve data based on specific keys rather than relying on the order of elements. Dictionaries are better suited for tasks that involve key-based lookup, associating values with identifiers, or ensuring uniqueness. Lists are more appropriate for ordered collections where the sequence and index of items matter.\n",
        "\n",
        "\n",
        "12. Describe a scenario where using a tuple would be preferable over a list ?\n",
        "\n",
        "    - A tuple would be preferable over a list in scenarios where immutability and data integrity are important, or when you need to group related data together in a fixed and consistent way. Here's a specific scenario where a tuple would be the better choice:- Imagine you are developing an application that stores geographic coordinates latitude and longitude for locations. Since geographic coordinates are meant to be fixed, it is important that they cannot be changed once they are set, to avoid any accidental modification or corruption of the data.\n",
        "\n",
        "\n",
        "13. How do sets handle duplicate values in Python ?\n",
        "\n",
        "    - In Python, sets automatically handle duplicate values by removing them. A set is an unordered collection of unique elements, and it does not allow any duplicate values. When you attempt to add a duplicate element to a set, it will be ignored, and the set will remain unchanged.\n",
        "\n",
        "\n",
        "14. How does the “in” keyword work differently for lists and dictionaries ?\n",
        "\n",
        "    - The in keyword in Python is used to test membership, but its behavior differs between lists and dictionaries because of how these data structures are designed. Use in for lists when you want to check for the presence of a specific element.Use in for dictionaries when you want to check for the presence of a specific key. To check for values, you need to explicitly access .values().\n",
        "\n",
        "15. Can you modify the elements of a tuple ? Explain why or why not\n",
        "\n",
        "    - No, you cannot modify the elements of a tuple in Python. Tuples are immutable, which means that once a tuple is created, its contents elements cannot be changed, added, or removed. This immutability is a fundamental property of tuples in Python.\n",
        "\n",
        "\n",
        "16. What is a nested dictionary, and give an example of its use case ?\n",
        "\n",
        "    - A nested dictionary in Python is a dictionary where a dictionary itself is stored as a value for a key. It allows hierarchical, multi-level data organization, making it useful for representing complex data structures.\n",
        "  for example:- Imagine you are creating a system to manage student records. Each student has multiple attributes like name, age, and grades for various subjects. A nested dictionary is an ideal structure to organize this data.\n",
        "\n",
        "\n",
        "17. Describe the time complexity of accessing elements in a dictionary ?\n",
        "\n",
        "    - Accessing elements in a Python dictionary is generally very fast due to its underlying implementation using hash tables. The time complexity of accessing an element depends on the operation and certain factors, such as hash collisions.\n",
        "\n",
        "18.  In what situations are lists preferred over dictionaries ?\n",
        "\n",
        "    - Lists and dictionaries are both powerful data structures in Python, but they are suited to different use cases. Lists are preferred over dictionaries in situations where:Sequential  ordered data, Positional access by index, Duplicate values, Simplicity for tasks involving iteration or aggregation without needing key-value relationships.\n",
        "\n",
        "19. Why are dictionaries considered unordered, and how does that affect data retrieval ?\n",
        "\n",
        "    - Dictionaries in Python are considered unordered in terms of how they store and manage their elements internally. This characteristic arises from the use of hash tables for their implementation.This affects data retrieval by requiring keys instead of positional indexes, which provides fast lookups.\n",
        "\n",
        "\n",
        "20.  Explain the difference between a list and a dictionary in terms of data retrieval ?\n",
        "\n",
        "    - The primary difference between a list and a dictionary in Python lies in how data is retrieved and accessed,Each structure is suited to specific types of tasks, and their choice depends on whether you need index-based sequential access list or key-based lookups dictionary.\n",
        "\n",
        "\n",
        "\n"
      ],
      "metadata": {
        "id": "nOEBJTFxE86X"
      }
    },
    {
      "cell_type": "code",
      "source": [
        "# 1. Write a code to create a string with your name and print it.\n",
        "\n",
        "# Create a string with  name\n",
        "name = \"Gaurav Sharma\"\n",
        "\n",
        "# Print the string\n",
        "print(name)\n"
      ],
      "metadata": {
        "colab": {
          "base_uri": "https://localhost:8080/"
        },
        "id": "K-byCQT3P9Wx",
        "outputId": "9d6eee70-45b3-4fc0-fb06-a379f5b366d4"
      },
      "execution_count": 3,
      "outputs": [
        {
          "output_type": "stream",
          "name": "stdout",
          "text": [
            "Gaurav Sharma\n"
          ]
        }
      ]
    },
    {
      "cell_type": "code",
      "source": [
        "# 2. Write a code to find the length of the string \"Hello World\"\n",
        "\n",
        "\n",
        "# Define the string\n",
        "string = \"Hello World\"\n",
        "\n",
        "# Find and print the length of the string\n",
        "length = len(string)\n",
        "print(\"The length of the string is:\", length)\n"
      ],
      "metadata": {
        "colab": {
          "base_uri": "https://localhost:8080/"
        },
        "id": "PCXlb1jKQYpS",
        "outputId": "6f0653fa-d6ab-4b75-b583-88f586203db4"
      },
      "execution_count": 4,
      "outputs": [
        {
          "output_type": "stream",
          "name": "stdout",
          "text": [
            "The length of the string is: 11\n"
          ]
        }
      ]
    },
    {
      "cell_type": "code",
      "source": [
        "# 3. Write a code to slice the first 3 characters from the string \"Python Programming\"\n",
        "\n",
        "# Define the string\n",
        "string = \"Python Programming\"\n",
        "\n",
        "# Slice the first 3 characters\n",
        "sliced = string[:3]\n",
        "\n",
        "# Print the sliced string\n",
        "print(\"The first 3 characters are:\", sliced)\n"
      ],
      "metadata": {
        "colab": {
          "base_uri": "https://localhost:8080/"
        },
        "id": "htQJ8LnBQsiO",
        "outputId": "be3269aa-b028-42b8-a0f8-c0d5ef4f0ff1"
      },
      "execution_count": 5,
      "outputs": [
        {
          "output_type": "stream",
          "name": "stdout",
          "text": [
            "The first 3 characters are: Pyt\n"
          ]
        }
      ]
    },
    {
      "cell_type": "code",
      "source": [
        "# 4. Write a code to convert the string \"hello\" to uppercase\n",
        "\n",
        "# Define the string\n",
        "string = \"hello\"\n",
        "\n",
        "# Convert the string to uppercase\n",
        "uppercase_string = string.upper()\n",
        "\n",
        "# Print the uppercase string\n",
        "print(\"The string in uppercase is:\", uppercase_string)\n"
      ],
      "metadata": {
        "colab": {
          "base_uri": "https://localhost:8080/"
        },
        "id": "4AJQlvsgQ8bL",
        "outputId": "0f868653-99b2-4b7a-c012-21b5ddae3774"
      },
      "execution_count": 6,
      "outputs": [
        {
          "output_type": "stream",
          "name": "stdout",
          "text": [
            "The string in uppercase is: HELLO\n"
          ]
        }
      ]
    },
    {
      "cell_type": "code",
      "source": [
        "# 5.  Write a code to replace the word \"apple\" with \"orange\" in the string \"I like apple\"\n",
        "\n",
        "# Define the string\n",
        "string = \"I like apple\"\n",
        "\n",
        "# Replace \"apple\" with \"orange\"\n",
        "new_string = string.replace(\"apple\", \"orange\")\n",
        "\n",
        "# Print the updated string\n",
        "print(\"Updated string:\", new_string)\n"
      ],
      "metadata": {
        "colab": {
          "base_uri": "https://localhost:8080/"
        },
        "id": "uKafMkoQRIP5",
        "outputId": "60c52a11-85d1-47b6-c278-f209c2882019"
      },
      "execution_count": 7,
      "outputs": [
        {
          "output_type": "stream",
          "name": "stdout",
          "text": [
            "Updated string: I like orange\n"
          ]
        }
      ]
    },
    {
      "cell_type": "code",
      "source": [
        "# 6. Write a code to create a list with numbers 1 to 5 and print it\n",
        "\n",
        "# Create a list with numbers 1 to 5\n",
        "numbers = [1, 2, 3, 4, 5]\n",
        "\n",
        "# Print the list\n",
        "print(\"The list is:\", numbers)\n"
      ],
      "metadata": {
        "colab": {
          "base_uri": "https://localhost:8080/"
        },
        "id": "pIfXoeMLRiJi",
        "outputId": "dac73865-0d77-429f-922f-e73b6497adf9"
      },
      "execution_count": 8,
      "outputs": [
        {
          "output_type": "stream",
          "name": "stdout",
          "text": [
            "The list is: [1, 2, 3, 4, 5]\n"
          ]
        }
      ]
    },
    {
      "cell_type": "code",
      "source": [
        "# 7. Write a code to append the number 10 to the list [1, 2, 3, 4]\n",
        "\n",
        "# Define the list\n",
        "numbers = [1, 2, 3, 4]\n",
        "\n",
        "# Append the number 10 to the list\n",
        "numbers.append(10)\n",
        "\n",
        "# Print the updated list\n",
        "print(\"Updated list:\", numbers)\n"
      ],
      "metadata": {
        "colab": {
          "base_uri": "https://localhost:8080/"
        },
        "id": "gSv4e11aRy6x",
        "outputId": "aac3f6fe-c8d9-4d66-f085-570e5cdc1675"
      },
      "execution_count": 9,
      "outputs": [
        {
          "output_type": "stream",
          "name": "stdout",
          "text": [
            "Updated list: [1, 2, 3, 4, 10]\n"
          ]
        }
      ]
    },
    {
      "cell_type": "code",
      "source": [
        "# 8. Write a code to remove the number 3 from the list [1, 2, 3, 4, 5]\n",
        "\n",
        "# Define the list\n",
        "numbers = [1, 2, 3, 4, 5]\n",
        "\n",
        "# Remove the number 3 from the list\n",
        "numbers.remove(3)\n",
        "\n",
        "# Print the updated list\n",
        "print(\"Updated list:\", numbers)\n"
      ],
      "metadata": {
        "colab": {
          "base_uri": "https://localhost:8080/"
        },
        "id": "QQFwtOq2R-Lw",
        "outputId": "d5b7981a-a0f0-4d40-9479-40f12722eb78"
      },
      "execution_count": 10,
      "outputs": [
        {
          "output_type": "stream",
          "name": "stdout",
          "text": [
            "Updated list: [1, 2, 4, 5]\n"
          ]
        }
      ]
    },
    {
      "cell_type": "code",
      "source": [
        "# 9. Write a code to access the second element in the list ['a', 'b', 'c', 'd']\n",
        "\n",
        "# Define the list\n",
        "letters = ['a', 'b', 'c', 'd']\n",
        "\n",
        "# Access the second element (index 1)\n",
        "second_element = letters[1]\n",
        "\n",
        "# Print the second element\n",
        "print(\"The second element is:\", second_element)\n"
      ],
      "metadata": {
        "colab": {
          "base_uri": "https://localhost:8080/"
        },
        "id": "5978Ed3JShnp",
        "outputId": "af42b513-865a-4d83-a3ab-d357ca2fafc9"
      },
      "execution_count": 11,
      "outputs": [
        {
          "output_type": "stream",
          "name": "stdout",
          "text": [
            "The second element is: b\n"
          ]
        }
      ]
    },
    {
      "cell_type": "code",
      "source": [
        "# 10. Write a code to reverse the list [10, 20, 30, 40, 50]\n",
        "\n",
        "\n",
        "# Define the list\n",
        "numbers = [10, 20, 30, 40, 50]\n",
        "\n",
        "# Reverse the list\n",
        "reversed_numbers = numbers[::-1]\n",
        "\n",
        "# Print the reversed list\n",
        "print(\"Reversed list:\", reversed_numbers)\n"
      ],
      "metadata": {
        "colab": {
          "base_uri": "https://localhost:8080/"
        },
        "id": "dtfr6t0rS5-R",
        "outputId": "be7162c6-72bc-4638-dd2d-3ba2cc92070f"
      },
      "execution_count": 12,
      "outputs": [
        {
          "output_type": "stream",
          "name": "stdout",
          "text": [
            "Reversed list: [50, 40, 30, 20, 10]\n"
          ]
        }
      ]
    },
    {
      "cell_type": "code",
      "source": [
        "# 11. Write a code to create a tuple with the elements 10, 20, 30 and print it\n",
        "\n",
        "# Create a tuple with elements 10, 20, 30\n",
        "my_tuple = (10, 20, 30)\n",
        "\n",
        "# Print the tuple\n",
        "print(\"The tuple is:\", my_tuple)\n"
      ],
      "metadata": {
        "colab": {
          "base_uri": "https://localhost:8080/"
        },
        "id": "3G13m1yGTO6b",
        "outputId": "5bd26edf-4bc9-41a6-c6f1-26fb9e33cd82"
      },
      "execution_count": 13,
      "outputs": [
        {
          "output_type": "stream",
          "name": "stdout",
          "text": [
            "The tuple is: (10, 20, 30)\n"
          ]
        }
      ]
    },
    {
      "cell_type": "code",
      "source": [
        "# 12. Write a code to access the first element of the tuple ('apple', 'banana', 'cherry')\n",
        "\n",
        "# Define the tuple\n",
        "fruits = ('apple', 'banana', 'cherry')\n",
        "\n",
        "# Access the first element (index 0)\n",
        "first_element = fruits[0]\n",
        "\n",
        "# Print the first element\n",
        "print(\"The first element is:\", first_element)\n"
      ],
      "metadata": {
        "colab": {
          "base_uri": "https://localhost:8080/"
        },
        "id": "joAT6XXMTdw8",
        "outputId": "b575f549-7d96-42a4-ed96-36cd1065b6f9"
      },
      "execution_count": 14,
      "outputs": [
        {
          "output_type": "stream",
          "name": "stdout",
          "text": [
            "The first element is: apple\n"
          ]
        }
      ]
    },
    {
      "cell_type": "code",
      "source": [
        "# 13. Write a code to count how many times the number 2 appears in the tuple (1, 2, 3, 2, 4, 2)\n",
        "\n",
        "# Define the tuple\n",
        "my_tuple = (1, 2, 3, 2, 4, 2)\n",
        "\n",
        "# Count how many times the number 2 appears in the tuple\n",
        "count = my_tuple.count(2)\n",
        "\n",
        "# Print the count\n",
        "print(\"The number 2 appears\", count, \"times.\")\n"
      ],
      "metadata": {
        "colab": {
          "base_uri": "https://localhost:8080/"
        },
        "id": "cFB1boEuToTo",
        "outputId": "4d274166-635e-4f09-c0db-4cf57052e2ab"
      },
      "execution_count": 15,
      "outputs": [
        {
          "output_type": "stream",
          "name": "stdout",
          "text": [
            "The number 2 appears 3 times.\n"
          ]
        }
      ]
    },
    {
      "cell_type": "code",
      "source": [
        "# 14. Write a code to find the index of the element \"cat\" in the tuple ('dog', 'cat', 'rabbit')\n",
        "\n",
        "# Define the tuple\n",
        "animals = ('dog', 'cat', 'rabbit')\n",
        "\n",
        "# Find the index of the element \"cat\"\n",
        "index = animals.index('cat')\n",
        "\n",
        "# Print the index\n",
        "print(\"The index of 'cat' is:\", index)\n"
      ],
      "metadata": {
        "colab": {
          "base_uri": "https://localhost:8080/"
        },
        "id": "TiaC7JXHT2wB",
        "outputId": "301c9c0c-f59a-430f-b7ea-c7253dd57e6f"
      },
      "execution_count": 16,
      "outputs": [
        {
          "output_type": "stream",
          "name": "stdout",
          "text": [
            "The index of 'cat' is: 1\n"
          ]
        }
      ]
    },
    {
      "cell_type": "code",
      "source": [
        "# 15. Write a code to check if the element \"banana\" is in the tuple ('apple', 'orange', 'banana')\n",
        "\n",
        "# Define the tuple\n",
        "fruits = ('apple', 'orange', 'banana')\n",
        "\n",
        "# Check if \"banana\" is in the tuple\n",
        "is_in_tuple = \"banana\" in fruits\n",
        "\n",
        "# Print the result\n",
        "print(\"Is 'banana' in the tuple?\", is_in_tuple)\n"
      ],
      "metadata": {
        "colab": {
          "base_uri": "https://localhost:8080/"
        },
        "id": "LpvDtzVwUB7b",
        "outputId": "b694bf91-c167-4bd6-beb8-3b29e56178e5"
      },
      "execution_count": 18,
      "outputs": [
        {
          "output_type": "stream",
          "name": "stdout",
          "text": [
            "Is 'banana' in the tuple? True\n"
          ]
        }
      ]
    },
    {
      "cell_type": "code",
      "source": [
        "# 16. Write a code to create a set with the elements 1, 2, 3, 4, 5 and print it.\n",
        "\n",
        "# Create a set with elements 1, 2, 3, 4, 5\n",
        "my_set = {1, 2, 3, 4, 5}\n",
        "\n",
        "# Print the set\n",
        "print(\"The set is:\", my_set)\n",
        "\n"
      ],
      "metadata": {
        "colab": {
          "base_uri": "https://localhost:8080/"
        },
        "id": "mr_4CMdfUh-T",
        "outputId": "5446e2fa-0db6-46e1-ed1d-8092766dcab3"
      },
      "execution_count": 19,
      "outputs": [
        {
          "output_type": "stream",
          "name": "stdout",
          "text": [
            "The set is: {1, 2, 3, 4, 5}\n"
          ]
        }
      ]
    },
    {
      "cell_type": "code",
      "source": [
        "# 17. Write a code to add the element 6 to the set {1, 2, 3, 4}.\n",
        "\n",
        "# Define the set\n",
        "my_set = {1, 2, 3, 4}\n",
        "\n",
        "# Add the element 6 to the set\n",
        "my_set.add(6)\n",
        "\n",
        "# Print the updated set\n",
        "print(\"Updated set:\", my_set)\n"
      ],
      "metadata": {
        "colab": {
          "base_uri": "https://localhost:8080/"
        },
        "id": "TtdN5jPcUudl",
        "outputId": "f597edf1-a526-4943-bcae-f07a657d34c7"
      },
      "execution_count": 20,
      "outputs": [
        {
          "output_type": "stream",
          "name": "stdout",
          "text": [
            "Updated set: {1, 2, 3, 4, 6}\n"
          ]
        }
      ]
    },
    {
      "cell_type": "code",
      "source": [
        "# 18. Write a code to create a tuple with the elements 10, 20, 30 and print it\n",
        "\n",
        "# Create a tuple with elements 10, 20, 30\n",
        "my_tuple = (10, 20, 30)\n",
        "\n",
        "# Print the tuple\n",
        "print(\"The tuple is:\", my_tuple)\n"
      ],
      "metadata": {
        "colab": {
          "base_uri": "https://localhost:8080/"
        },
        "id": "mjWNfwfMU8n2",
        "outputId": "3fe4a280-39c0-4b79-b0d9-f881c0917c8e"
      },
      "execution_count": 21,
      "outputs": [
        {
          "output_type": "stream",
          "name": "stdout",
          "text": [
            "The tuple is: (10, 20, 30)\n"
          ]
        }
      ]
    },
    {
      "cell_type": "code",
      "source": [
        "# 19.  Write a code to access the first element of the tuple ('apple', 'banana', 'cherry').\n",
        "\n",
        "# Define the tuple\n",
        "fruits = ('apple', 'banana', 'cherry')\n",
        "\n",
        "# Access the first element (index 0)\n",
        "first_element = fruits[0]\n",
        "\n",
        "# Print the first element\n",
        "print(\"The first element is:\", first_element)\n"
      ],
      "metadata": {
        "colab": {
          "base_uri": "https://localhost:8080/"
        },
        "id": "TAJRcmTAVRRz",
        "outputId": "1a4d32a5-d548-44d9-e162-68dd0bb05b57"
      },
      "execution_count": 22,
      "outputs": [
        {
          "output_type": "stream",
          "name": "stdout",
          "text": [
            "The first element is: apple\n"
          ]
        }
      ]
    },
    {
      "cell_type": "code",
      "source": [
        "# 20. Write a code to count how many times the number 2 appears in the tuple (1, 2, 3, 2, 4, 2).\n",
        "\n",
        "\n",
        "# Define the tuple\n",
        "my_tuple = (1, 2, 3, 2, 4, 2)\n",
        "\n",
        "# Count how many times the number 2 appears in the tuple\n",
        "count = my_tuple.count(2)\n",
        "\n",
        "# Print the count\n",
        "print(\"The number 2 appears\", count, \"times.\")\n"
      ],
      "metadata": {
        "colab": {
          "base_uri": "https://localhost:8080/"
        },
        "id": "3FwaB99GVfSC",
        "outputId": "a6d7606a-ab20-4ee3-b94a-81cafeda5a92"
      },
      "execution_count": 23,
      "outputs": [
        {
          "output_type": "stream",
          "name": "stdout",
          "text": [
            "The number 2 appears 3 times.\n"
          ]
        }
      ]
    },
    {
      "cell_type": "code",
      "source": [
        "# 21. Write a code to find the index of the element \"cat\" in the tuple ('dog', 'cat', 'rabbit').\n",
        "\n",
        "\n",
        "# Define the tuple\n",
        "animals = ('dog', 'cat', 'rabbit')\n",
        "\n",
        "# Find the index of the element \"cat\"\n",
        "index = animals.index('cat')\n",
        "\n",
        "# Print the index\n",
        "print(\"The index of 'cat' is:\", index)\n"
      ],
      "metadata": {
        "colab": {
          "base_uri": "https://localhost:8080/"
        },
        "id": "Sts7G8uBVpVI",
        "outputId": "252125e8-a76d-4b0a-97c2-68237618676f"
      },
      "execution_count": 24,
      "outputs": [
        {
          "output_type": "stream",
          "name": "stdout",
          "text": [
            "The index of 'cat' is: 1\n"
          ]
        }
      ]
    },
    {
      "cell_type": "code",
      "source": [
        "# 22. Write a code to check if the element \"banana\" is in the tuple ('apple', 'orange', 'banana').\n",
        "\n",
        "# Define the tuple\n",
        "fruits = ('apple', 'orange', 'banana')\n",
        "\n",
        "# Check if \"banana\" is in the tuple\n",
        "is_in_tuple = \"banana\" in fruits\n",
        "\n",
        "# Print the result\n",
        "print(\"Is 'banana' in the tuple?\", is_in_tuple)\n"
      ],
      "metadata": {
        "colab": {
          "base_uri": "https://localhost:8080/"
        },
        "id": "4maIcH3uVybs",
        "outputId": "7f81f83e-e42d-475e-aac5-74d1cfd92311"
      },
      "execution_count": 27,
      "outputs": [
        {
          "output_type": "stream",
          "name": "stdout",
          "text": [
            "Is 'banana' in the tuple? True\n"
          ]
        }
      ]
    },
    {
      "cell_type": "code",
      "source": [
        "# 23. Write a code to create a set with the elements 1, 2, 3, 4, 5 and print it.\n",
        "\n",
        "# Create a set with elements 1, 2, 3, 4, 5\n",
        "my_set = {1, 2, 3, 4, 5}\n",
        "\n",
        "# Print the set\n",
        "print(\"The set is:\", my_set)\n"
      ],
      "metadata": {
        "colab": {
          "base_uri": "https://localhost:8080/"
        },
        "id": "c0xbbm0xWBMZ",
        "outputId": "c1873dcc-d3f6-4e71-ef06-c54ba2b89fa0"
      },
      "execution_count": 28,
      "outputs": [
        {
          "output_type": "stream",
          "name": "stdout",
          "text": [
            "The set is: {1, 2, 3, 4, 5}\n"
          ]
        }
      ]
    },
    {
      "cell_type": "code",
      "source": [
        "# 24. Write a code to add the element 6 to the set {1, 2, 3, 4}.\n",
        "\n",
        "\n",
        "# Define the set\n",
        "my_set = {1, 2, 3, 4}\n",
        "\n",
        "# Add the element 6 to the set\n",
        "my_set.add(6)\n",
        "\n",
        "# Print the updated set\n",
        "print(\"The updated set is:\", my_set)\n"
      ],
      "metadata": {
        "colab": {
          "base_uri": "https://localhost:8080/"
        },
        "id": "DyPNfjWNWM30",
        "outputId": "3d38aabc-2913-4daa-e114-f3541ed79345"
      },
      "execution_count": 29,
      "outputs": [
        {
          "output_type": "stream",
          "name": "stdout",
          "text": [
            "The updated set is: {1, 2, 3, 4, 6}\n"
          ]
        }
      ]
    }
  ]
}